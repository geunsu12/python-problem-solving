{
 "cells": [
  {
   "cell_type": "markdown",
   "id": "b28f2e81",
   "metadata": {},
   "source": [
    "## MST : Minimal Spanning Tree\n",
    "\n",
    "Spanning Tree : 모든 노드가 연결된 트리  \n",
    "MST : 최소의 비용으로 모든 노드가 연결된 트리  \n",
    "\n"
   ]
  },
  {
   "cell_type": "markdown",
   "id": "bf97df88",
   "metadata": {},
   "source": [
    "![MST](imgs/graph_image.png)"
   ]
  },
  {
   "cell_type": "code",
   "execution_count": 14,
   "id": "d3a9c919",
   "metadata": {},
   "outputs": [],
   "source": [
    "# 기본 코드\n",
    "import heapq\n",
    "\n",
    "def BasicMST():\n",
    "    # heap -> [[비용, 노드 번호]]\n",
    "    heap = [[0,1]]\n",
    "\n",
    "    # node 갯수 : 5, edge 갯수 : 6\n",
    "\n",
    "    n, e = map(int,input())\n",
    "\n",
    "    edge = [[] for _ in range(n+1)]\n",
    "    visit = [False]*(n+1)\n",
    "    \n",
    "    for i in range(e):\n",
    "        fr, to, cost = map(int,input().split())\n",
    "        edge[fr].append([cost,to])\n",
    "        edge[to].append([cost,fr])\n",
    "\n",
    "    rs = 0\n",
    "\n",
    "    while heap:\n",
    "        w,next_node = heapq.heappop(heap)\n",
    "        if chk[next_node] == False:\n",
    "            chk[next_node] = True\n",
    "            rs+=w\n",
    "            for next_edge in edge[next_node]:\n",
    "                if chk[next_edge[1]] == False:\n",
    "                    heapq.heappush(heap,next_edge)\n",
    "    return rs"
   ]
  },
  {
   "cell_type": "markdown",
   "id": "99fd62a4",
   "metadata": {},
   "source": [
    "기본문제 : 백준 1197 최소 스패닝 트리  \n",
    "\n",
    "백준 1197 : https://www.acmicpc.net/problem/1197"
   ]
  },
  {
   "cell_type": "markdown",
   "id": "cd522a39",
   "metadata": {},
   "source": [
    "## 문제  \n",
    "\n",
    "그래프가 주어졌을 때, 그 그래프의 최소 스패닝 트리를 구하는 프로그램을 작성하시오.  \n",
    "\n",
    "최소 스패닝 트리는, 주어진 그래프의 모든 정점들을 연결하는 부분 그래프 중에서 그 가중치의 합이 최소인 트리를 말한다."
   ]
  },
  {
   "cell_type": "markdown",
   "id": "d7044122",
   "metadata": {},
   "source": [
    "##  입력\n",
    "\n",
    "첫째 줄에 정점의 개수 V(1 ≤ V ≤ 10,000)와 간선의 개수 E(1 ≤ E ≤ 100,000)가 주어진다.  \n",
    "\n",
    "다음 E개의 줄에는 각 간선에 대한 정보를 나타내는 세 정수 A, B, C가 주어진다.  \n",
    "\n",
    "이는 A번 정점과 B번 정점이 가중치 C인 간선으로 연결되어 있다는 의미이다. C는 음수일 수도 있으며, 절댓값이 1,000,000을 넘지 않는다.\n",
    "\n",
    "\n",
    "그래프의 정점은 1번부터 V번까지 번호가 매겨져 있고, 임의의 두 정점 사이에 경로가 있다.  \n",
    "\n",
    "최소 스패닝 트리의 가중치가 -2,147,483,648보다 크거나 같고, 2,147,483,647보다 작거나 같은 데이터만 입력으로 주어진다.\n"
   ]
  },
  {
   "cell_type": "markdown",
   "id": "35f49cac",
   "metadata": {},
   "source": [
    "## 출력  \n",
    "첫째 줄에 최소 스패닝 트리의 가중치를 출력한다."
   ]
  },
  {
   "cell_type": "markdown",
   "id": "d5887c4d",
   "metadata": {},
   "source": [
    "# 예제 입력\n",
    "\n",
    "3 3  \n",
    "1 2 1  \n",
    "2 3 2  \n",
    "1 3 3\n",
    "\n",
    "## 예제 출력\n",
    "\n",
    "3"
   ]
  },
  {
   "cell_type": "code",
   "execution_count": 4,
   "id": "66a8a231",
   "metadata": {},
   "outputs": [
    {
     "name": "stdout",
     "output_type": "stream",
     "text": [
      "3 3\n",
      "1 2 1\n",
      "2 3 2\n",
      "1 3 3\n",
      "3\n"
     ]
    }
   ],
   "source": [
    "import sys\n",
    "import heapq\n",
    "\n",
    "# input = sys.stdin.readline\n",
    "\n",
    "v,e = map(int,input().rstrip().split())\n",
    "edge = [[] for _ in range(v+1)]\n",
    "chk = [False]*(v+1)\n",
    "\n",
    "rs = 0\n",
    "\n",
    "for i in range(e):\n",
    "    # 양방향 엣지\n",
    "    fr, to, cost = map(int,input().rstrip().split())\n",
    "    edge[fr].append([cost,to])\n",
    "    edge[to].append([cost,fr])\n",
    "\n",
    "heap = [[0,1]]\n",
    "\n",
    "while heap:\n",
    "    now_cost, each_node = heapq.heappop(heap)\n",
    "    if chk[each_node] == False:\n",
    "        chk[each_node] = True\n",
    "        rs+=now_cost\n",
    "        for next_edge in edge[each_node]:\n",
    "            if chk[next_edge[1]] == False:\n",
    "                heapq.heappush(heap,next_edge)\n",
    "        \n",
    "print(rs)"
   ]
  },
  {
   "cell_type": "markdown",
   "id": "3c6c02de",
   "metadata": {},
   "source": [
    "*출처 :*  \n",
    "*- 개발자 장고 Youtube 코딩테스트 필수 알고리즘 9.MST*  \n",
    "*- 백준 알고리즘 1197번*"
   ]
  },
  {
   "cell_type": "code",
   "execution_count": null,
   "id": "3e352706",
   "metadata": {},
   "outputs": [],
   "source": []
  }
 ],
 "metadata": {
  "kernelspec": {
   "display_name": "Python 3 (ipykernel)",
   "language": "python",
   "name": "python3"
  },
  "language_info": {
   "codemirror_mode": {
    "name": "ipython",
    "version": 3
   },
   "file_extension": ".py",
   "mimetype": "text/x-python",
   "name": "python",
   "nbconvert_exporter": "python",
   "pygments_lexer": "ipython3",
   "version": "3.10.9"
  }
 },
 "nbformat": 4,
 "nbformat_minor": 5
}
