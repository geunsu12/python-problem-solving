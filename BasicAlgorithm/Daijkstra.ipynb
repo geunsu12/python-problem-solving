{
 "cells": [
  {
   "cell_type": "markdown",
   "id": "4bfa6a8a",
   "metadata": {},
   "source": [
    "## Daijkstra\n",
    "\n",
    "Daijkstra : 한 노드에서 모든 노드까지의 최단 경로를 찾는 탐색 알고리즘"
   ]
  },
  {
   "cell_type": "markdown",
   "id": "46c92ef2",
   "metadata": {},
   "source": [
    "![Daijkstra](imgs/graph_image.png)"
   ]
  },
  {
   "cell_type": "markdown",
   "id": "f8f107c7",
   "metadata": {},
   "source": [
    "간선 : 인접리스트\n",
    "거리 배열 : 초기값 무한대로 설정, 힙 시작점 추가\n",
    "- 힙에서 현재 노드 빼면서 간선을 통할 때 더 거리가 짧아진다면, 거리 갱신 및 힙에 추가"
   ]
  },
  {
   "cell_type": "code",
   "execution_count": 3,
   "id": "258a8176",
   "metadata": {},
   "outputs": [],
   "source": [
    "# 기본 코드\n",
    "import heapq\n",
    "\n",
    "def daijkstra():\n",
    "    \n",
    "    heap = []\n",
    "    INF = sys.maxsize\n",
    "    \n",
    "    n,e = map(int,input().split())\n",
    "    k = input()\n",
    "    \n",
    "    dist = [INF]*(n+1)\n",
    "    dist[k]=0\n",
    "    \n",
    "    heapq.heappush(heap,(0,k))\n",
    "    \n",
    "    while heap:\n",
    "        w,v = heapq.heappop(heap)\n",
    "        if w!= dist[v]: continue\n",
    "        for nw, nv in edge[v]:\n",
    "            if dist[nv] > dist[v]+nw:\n",
    "                dist[nv] = dist[v]+nw\n",
    "                heapq.heappush(heap, (dist[nv],nv))\n",
    "                "
   ]
  },
  {
   "cell_type": "code",
   "execution_count": null,
   "id": "34745660",
   "metadata": {},
   "outputs": [],
   "source": []
  }
 ],
 "metadata": {
  "kernelspec": {
   "display_name": "Python 3 (ipykernel)",
   "language": "python",
   "name": "python3"
  },
  "language_info": {
   "codemirror_mode": {
    "name": "ipython",
    "version": 3
   },
   "file_extension": ".py",
   "mimetype": "text/x-python",
   "name": "python",
   "nbconvert_exporter": "python",
   "pygments_lexer": "ipython3",
   "version": "3.10.9"
  }
 },
 "nbformat": 4,
 "nbformat_minor": 5
}
